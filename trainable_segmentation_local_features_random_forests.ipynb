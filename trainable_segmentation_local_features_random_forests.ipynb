{
 "cells": [
  {
   "cell_type": "markdown",
   "metadata": {},
   "source": [
    "# Trainable segmentation using local features and random forests"
   ]
  },
  {
   "cell_type": "markdown",
   "metadata": {},
   "source": [
    "Pixel based segmentation using local features at different scales:\n",
    "- local intensity\n",
    "- edges\n",
    "- textures\n",
    "\n",
    "Pixels of user-provided mask used to identify different regions and train a random forest classifier from sci-kit learn. Unlabelled pixels are then labeled from prediction of the classifier. \n",
    "\n",
    "- Adding in napari for annotations\n",
    "- dask lazy load"
   ]
  },
  {
   "cell_type": "markdown",
   "metadata": {},
   "source": [
    "Libraries:"
   ]
  },
  {
   "cell_type": "code",
   "execution_count": 2,
   "metadata": {},
   "outputs": [],
   "source": [
    "import numpy as np\n",
    "import matplotlib.pyplot as plt\n",
    "from skimage import data, segmentation, feature, future\n",
    "from sklearn.ensemble import RandomForestClassifier\n",
    "from functools import partial\n",
    "import napari\n",
    "import tifffile\n",
    "from dask import delayed\n",
    "from dask_image.imread import imread\n",
    "from dask import array as da "
   ]
  },
  {
   "cell_type": "markdown",
   "metadata": {},
   "source": [
    "Load skin data from scikit and convert to tif "
   ]
  },
  {
   "cell_type": "code",
   "execution_count": 43,
   "metadata": {},
   "outputs": [],
   "source": [
    "# Load data\n",
    "skin = data.skin()\n",
    "sub_skin = skin[:900, :900]"
   ]
  },
  {
   "cell_type": "markdown",
   "metadata": {},
   "source": [
    "Load 3D cell dataset from skimage"
   ]
  },
  {
   "cell_type": "code",
   "execution_count": 57,
   "metadata": {},
   "outputs": [
    {
     "name": "stderr",
     "output_type": "stream",
     "text": [
      "Downloading file 'data/cells3d.tif' from 'https://gitlab.com/scikit-image/data/-/raw/2cdc5ce89b334d28f06a58c9f0ca21aa6992a5ba/cells3d.tif' to '/home/jaz/.cache/scikit-image/0.22.0'.\n"
     ]
    },
    {
     "data": {
      "text/plain": [
       "(60, 2, 256, 256)"
      ]
     },
     "execution_count": 57,
     "metadata": {},
     "output_type": "execute_result"
    }
   ],
   "source": [
    "from skimage.data import cells3d\n",
    "image = cells3d()\n",
    "image.shape"
   ]
  },
  {
   "cell_type": "markdown",
   "metadata": {},
   "source": [
    "Create Training Labels: \n",
    "- Creating a ground truth segmentation mask (training_labels) by user specifying regions of interest in the image."
   ]
  },
  {
   "cell_type": "code",
   "execution_count": 118,
   "metadata": {},
   "outputs": [
    {
     "name": "stderr",
     "output_type": "stream",
     "text": [
      "WARNING: could not determine DPI\n"
     ]
    }
   ],
   "source": [
    "# Open Napari viewer\n",
    "viewer = napari.Viewer()\n",
    "\n",
    "# Display the image and labels in the same window\n",
    "viewer.add_image(sub_skin, name='Skin Image')\n",
    "training_labels = viewer.add_labels(np.zeros(sub_skin.shape[:2]).astype(int))\n",
    "\n",
    "# Run the Napari viewer\n",
    "napari.run()"
   ]
  },
  {
   "cell_type": "code",
   "execution_count": 119,
   "metadata": {},
   "outputs": [],
   "source": [
    "annotations = training_labels.data"
   ]
  },
  {
   "cell_type": "code",
   "execution_count": 120,
   "metadata": {},
   "outputs": [],
   "source": [
    "sigma_min = 1\n",
    "sigma_max = 16\n",
    "features_func = partial(feature.multiscale_basic_features,\n",
    "                        intensity=True, edges=False, texture=True,\n",
    "                        sigma_min=sigma_min, sigma_max=sigma_max,\n",
    "                        channel_axis=-1)\n",
    "features = features_func(sub_skin)\n",
    "clf = RandomForestClassifier(n_estimators=100, n_jobs=-1,\n",
    "                             max_depth=10, max_samples=0.05)\n",
    "clf = future.fit_segmenter(annotations, features, clf)\n",
    "result = future.predict_segmenter(features, clf)"
   ]
  },
  {
   "cell_type": "code",
   "execution_count": 121,
   "metadata": {},
   "outputs": [
    {
     "name": "stderr",
     "output_type": "stream",
     "text": [
      "WARNING: could not determine DPI\n"
     ]
    }
   ],
   "source": [
    "# Open Napari viewer\n",
    "viewer = napari.Viewer()\n",
    "\n",
    "# Display the image and labels in the same window\n",
    "viewer.add_image(sub_skin, name='Skin Image')\n",
    "viewer.add_image(result, name='result Image')\n",
    "# Run the Napari viewer\n",
    "napari.run()"
   ]
  },
  {
   "cell_type": "markdown",
   "metadata": {},
   "source": [
    "### Feature importance"
   ]
  },
  {
   "cell_type": "markdown",
   "metadata": {},
   "source": [
    "- Inspect the importance of different features computed by sci-kit learn\n",
    "- Intensity features have a higher importance here than texture\n",
    "- If reduce the number of features based on this, can lead to overfitting and degraded result within the boundary of regions"
   ]
  },
  {
   "cell_type": "code",
   "execution_count": 122,
   "metadata": {},
   "outputs": [
    {
     "data": {
      "text/plain": [
       "45"
      ]
     },
     "execution_count": 122,
     "metadata": {},
     "output_type": "execute_result"
    }
   ],
   "source": [
    "l = len(clf.feature_importances_)\n",
    "l"
   ]
  },
  {
   "cell_type": "code",
   "execution_count": 123,
   "metadata": {},
   "outputs": [],
   "source": [
    "feature_importance = (\n",
    "        clf.feature_importances_[:l//3],\n",
    "        clf.feature_importances_[l//3:2*l//3],\n",
    "        clf.feature_importances_[2*l//3:])"
   ]
  },
  {
   "cell_type": "code",
   "execution_count": 124,
   "metadata": {},
   "outputs": [],
   "source": [
    "sigmas = np.logspace(\n",
    "        np.log2(sigma_min), np.log2(sigma_max),\n",
    "        num=int(np.log2(sigma_max) - np.log2(sigma_min) + 1),\n",
    "        base=2, endpoint=True)"
   ]
  },
  {
   "cell_type": "code",
   "execution_count": 125,
   "metadata": {},
   "outputs": [
    {
     "data": {
      "image/png": "[encoded data removed]",
      "text/plain": [
       "<Figure size 900x400 with 2 Axes>"
      ]
     },
     "metadata": {},
     "output_type": "display_data"
    }
   ],
   "source": [
    "fig, ax = plt.subplots(1, 2, figsize=(9, 4)) # change numb subplots depending of features\n",
    "\n",
    "for ch, color in zip(range(3), ['r', 'g', 'b']):\n",
    "    ax[0].plot(sigmas, feature_importance[ch][::3], 'o', color=color)\n",
    "    ax[0].set_title(\"Intensity features\")\n",
    "    ax[0].set_xlabel(\"$\\\\sigma$\")\n",
    "for ch, color in zip(range(3), ['r', 'g', 'b']):\n",
    "    ax[1].plot(sigmas, feature_importance[ch][1::3], 'o', color=color)\n",
    "    ax[1].plot(sigmas, feature_importance[ch][2::3], 's', color=color)\n",
    "    ax[1].set_title(\"Texture features\")\n",
    "    ax[1].set_xlabel(\"$\\\\sigma$\")\n",
    "\n",
    "fig.tight_layout()"
   ]
  },
  {
   "cell_type": "markdown",
   "metadata": {},
   "source": [
    "- the x-axis represents the scale parameter $\\sigma$, and the y-axis represents the importance of the feature.\n",
    "\n"
   ]
  },
  {
   "cell_type": "markdown",
   "metadata": {},
   "source": [
    "### Fitting new images"
   ]
  },
  {
   "cell_type": "code",
   "execution_count": 127,
   "metadata": {},
   "outputs": [],
   "source": [
    "# Generate new img\n",
    "img_new = skin[:700, 900:]"
   ]
  },
  {
   "cell_type": "code",
   "execution_count": 128,
   "metadata": {},
   "outputs": [],
   "source": [
    "features_new = features_func(img_new)\n",
    "result_new = future.predict_segmenter(features_new, clf)"
   ]
  },
  {
   "cell_type": "code",
   "execution_count": 129,
   "metadata": {},
   "outputs": [
    {
     "name": "stderr",
     "output_type": "stream",
     "text": [
      "WARNING: could not determine DPI\n"
     ]
    }
   ],
   "source": [
    "# Open Napari viewer\n",
    "viewer = napari.Viewer()\n",
    "\n",
    "# Display the image and labels in the same window\n",
    "viewer.add_image(img_new, name='Skin Image')\n",
    "viewer.add_image(result_new, name='result Image')\n",
    "# Run the Napari viewer\n",
    "napari.run()"
   ]
  }
 ],
 "metadata": {
  "kernelspec": {
   "display_name": "img_seg",
   "language": "python",
   "name": "python3"
  },
  "language_info": {
   "codemirror_mode": {
    "name": "ipython",
    "version": 3
   },
   "file_extension": ".py",
   "mimetype": "text/x-python",
   "name": "python",
   "nbconvert_exporter": "python",
   "pygments_lexer": "ipython3",
   "version": "3.9.18"
  }
 },
 "nbformat": 4,
 "nbformat_minor": 2
}
